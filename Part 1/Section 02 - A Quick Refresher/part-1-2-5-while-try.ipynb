{
 "cells": [
  {
   "cell_type": "markdown",
   "metadata": {},
   "source": [
    "while-try-break; try...except...finally"
   ]
  },
  {
   "cell_type": "code",
   "execution_count": 2,
   "metadata": {},
   "outputs": [
    {
     "name": "stdout",
     "output_type": "stream",
     "text": [
      "division by 0\n",
      "this always executes\n"
     ]
    }
   ],
   "source": [
    "a = 10\n",
    "b = 0\n",
    "try:\n",
    "    a/b\n",
    "except ZeroDivisionError:\n",
    "    print('division by 0')\n",
    "finally:\n",
    "    print('this always executes')"
   ]
  },
  {
   "cell_type": "code",
   "execution_count": 3,
   "metadata": {},
   "outputs": [
    {
     "name": "stdout",
     "output_type": "stream",
     "text": [
      "-----------------\n",
      "1, 1 - always executes\n",
      "1, 1 - main loop\n",
      "-----------------\n",
      "2, 0 - division by 0\n",
      "2, 0 - always executes\n",
      "-----------------\n",
      "3, -1 - always executes\n",
      "3, -1 - main loop\n",
      "-----------------\n",
      "4, -2 - always executes\n",
      "4, -2 - main loop\n"
     ]
    }
   ],
   "source": [
    "# without continue\n",
    "a = 0\n",
    "b = 2\n",
    "\n",
    "while a < 4:\n",
    "    print('-----------------')\n",
    "    a += 1\n",
    "    b -= 1\n",
    "    \n",
    "    try:\n",
    "        a / b\n",
    "    except ZeroDivisionError:\n",
    "        print(\"{0}, {1} - division by 0\".format(a, b))\n",
    "        continue\n",
    "    finally:\n",
    "        print(\"{0}, {1} - always executes\".format(a, b))\n",
    "    \n",
    "    print(\"{0}, {1} - main loop\".format(a, b))"
   ]
  },
  {
   "cell_type": "code",
   "execution_count": 7,
   "metadata": {},
   "outputs": [
    {
     "name": "stdout",
     "output_type": "stream",
     "text": [
      "-----------------\n",
      "1, 19 - always executes\n",
      "1, 19 - main loop\n",
      "-----------------\n",
      "2, 18 - always executes\n",
      "2, 18 - main loop\n",
      "-----------------\n",
      "3, 17 - always executes\n",
      "3, 17 - main loop\n",
      "-----------------\n",
      "4, 16 - always executes\n",
      "4, 16 - main loop\n",
      "\n",
      "Code executed without a ZeroDivsionError\n"
     ]
    }
   ],
   "source": [
    "# with break\n",
    "\n",
    "a = 0\n",
    "b = 20\n",
    "\n",
    "while a < 4:\n",
    "    print('-----------------')\n",
    "    a += 1\n",
    "    b -= 1\n",
    "    \n",
    "    try:\n",
    "        a / b\n",
    "    except ZeroDivisionError:\n",
    "        print(\"{0}, {1} - division by 0\".format(a, b))\n",
    "        break\n",
    "    finally:\n",
    "        print(\"{0}, {1} - always executes\".format(a, b))\n",
    "    \n",
    "    print(\"{0}, {1} - main loop\".format(a, b))\n",
    "else:\n",
    "    print('\\nCode executed without a ZeroDivsionError')"
   ]
  },
  {
   "cell_type": "code",
   "execution_count": null,
   "metadata": {},
   "outputs": [],
   "source": []
  }
 ],
 "metadata": {
  "kernelspec": {
   "display_name": "Python 3",
   "language": "python",
   "name": "python3"
  },
  "language_info": {
   "codemirror_mode": {
    "name": "ipython",
    "version": 3
   },
   "file_extension": ".py",
   "mimetype": "text/x-python",
   "name": "python",
   "nbconvert_exporter": "python",
   "pygments_lexer": "ipython3",
   "version": "3.8.5"
  }
 },
 "nbformat": 4,
 "nbformat_minor": 4
}
